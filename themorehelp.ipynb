{
 "cells": [
  {
   "cell_type": "code",
   "execution_count": 178,
   "id": "0dadd351",
   "metadata": {},
   "outputs": [],
   "source": [
    "from bs4 import BeautifulSoup as bs\n",
    "import requests, json\n",
    "from datetime import datetime"
   ]
  },
  {
   "cell_type": "code",
   "execution_count": 179,
   "id": "4a804f2f",
   "metadata": {},
   "outputs": [],
   "source": [
    "\n",
    "def get_usd_curreny():\n",
    "    dt = datetime.today()\n",
    "    today = dt.strftime('%Y%m%d')\n",
    "\n",
    "    data = {\"dataBody\":{\"ricInptRootInfo\":{\"serviceType\":\"GU\",\"serviceCode\":\"F3730\",\"nextServiceCode\":\"\",\"pkcs7Data\":\"\",\"signCode\":\"\",\"signData\":\"\",\"useSign\":\"\",\"useCert\":\"\",\"permitMultiTransaction\":\"\",\"keepTransactionSession\":\"\",\"skipErrorMsg\":\"\",\"mode\":\"\",\"language\":\"ko\",\"exe2e\":\"\",\"hideProcess\":\"\",\"clearTarget\":\"\",\"callBack\":\"shbObj.fncF3730Callback\",\"exceptionCallback\":\"\",\"requestMessage\":\"\",\"responseMessage\":\"\",\"serviceOption\":\"\",\"pcLog\":\"\",\"preInqForMulti\":\"\",\"makesum\":\"\",\"removeIndex\":\"\",\"redirectUrl\":\"\",\"preInqKey\":\"\",\"_multi_transfer_\":\"\",\"_multi_transfer_count_\":\"\",\"_multi_transfer_amt_\":\"\",\"userCallback\":\"\",\"menuCode\":\"\",\"certtype\":\"\",\"fromMulti\":\"\",\"fromMultiIdx\":\"\",\"isRule\":\"N\",\"webUri\":\"/index.jsp\",\"gubun\":\"\",\"tmpField2\":\"\"},\"조회구분\":\"\",\"조회일자\":today,\"고시회차\":1,\"조회일자_display\":\"\",\"startPoint\":\"\",\"endPoint\":\"\"},\"dataHeader\":{\"trxCd\":\"RSHRC0213A01\",\"language\":\"ko\",\"subChannel\":\"49\",\"channelGbn\":\"D0\"}}\n",
    "    url = 'https://bank.shinhan.com/serviceEndpoint/httpDigital'\n",
    "\n",
    "    res = requests.post(url, data=json.dumps(data))\n",
    "\n",
    "\n",
    "    currency_exchanges = res.json()['dataBody']['R_RIBF3730_1']\n",
    "    return {'code': currency_exchanges[0]['통화CODE'], 'cur': currency_exchanges[0]['전신환매도환율']}\n",
    "    #전신환매도환율\n",
    "    #통화CODE\n",
    "usd_cur = get_usd_curreny()"
   ]
  },
  {
   "cell_type": "code",
   "execution_count": 180,
   "id": "d762c496",
   "metadata": {},
   "outputs": [
    {
     "data": {
      "text/plain": [
       "1333.7"
      ]
     },
     "execution_count": 180,
     "metadata": {},
     "output_type": "execute_result"
    }
   ],
   "source": [
    "usd_cur['cur']"
   ]
  },
  {
   "cell_type": "code",
   "execution_count": 181,
   "id": "21a2abb6",
   "metadata": {},
   "outputs": [],
   "source": [
    "import math\n",
    "\n",
    "def round_off(num, pos=2):\n",
    "    t = str(num).split('.')\n",
    "    t[1] = t[1][:pos]\n",
    "    return float(\".\".join(t))"
   ]
  },
  {
   "cell_type": "code",
   "execution_count": 182,
   "id": "6dd2c81b",
   "metadata": {},
   "outputs": [
    {
     "data": {
      "text/plain": [
       "(4.49, 5998, 10.0)"
      ]
     },
     "execution_count": 182,
     "metadata": {},
     "output_type": "execute_result"
    }
   ],
   "source": [
    "# usd_cur = {'code': 'USD', 'cur': '1296.40'}\n",
    "\n",
    "card_fee = 0\n",
    "\n",
    "def exCalc(v):\n",
    "    visafee = v * 0.011;\n",
    "    visafee = float(round_off(visafee));\n",
    "    t = round(v * float(usd_cur['cur']))\n",
    "    card_fee = t * 0.0018\n",
    "    card_fee = round_off(card_fee, 0)\n",
    "    krw = ((v + visafee) * float(usd_cur['cur'])) + card_fee\n",
    "    return (v+visafee, int(krw), card_fee)\n",
    "\n",
    "exCalc(4.45)"
   ]
  },
  {
   "cell_type": "code",
   "execution_count": 183,
   "id": "1d0f0849",
   "metadata": {},
   "outputs": [
    {
     "data": {
      "text/plain": [
       "(4.45, 5998, 10.0, 4.49)"
      ]
     },
     "execution_count": 183,
     "metadata": {},
     "output_type": "execute_result"
    }
   ],
   "source": [
    "def default_value():\n",
    "    tar = 5999\n",
    "    for i in range(600, 400, -1):\n",
    "        usd = i/100\n",
    "        usdv, krw, card_fee = exCalc(usd)\n",
    "        if (krw < 6000):\n",
    "            return (usd, krw, card_fee, usdv)\n",
    "        \n",
    "\n",
    "usd, krw, card_fee, usdv = default_value()\n",
    "usd, krw, card_fee, usdv"
   ]
  },
  {
   "cell_type": "code",
   "execution_count": 184,
   "id": "96e9b40d",
   "metadata": {},
   "outputs": [],
   "source": [
    "import urllib.parse\n",
    "\n",
    "currenys = []\n",
    "currencys_list = [\"AED\", \"ARS\", \"AUD\", \"CAD\", \"CHF\", \"CLP\", \"CZK\", \"CNY\", \"DKK\", \"EUR\", \"GBP\", \"HKD\", \"HUF\", \"IDR\", \"INR\", \"JPY\", \"NPR\", \"NGN\", \"NZD\", \"NOK\", \"MXN\", \"MYR\", \"PHP\", \"PLN\", \"RUB\", \"SAR\", \"SGD\", \"SEK\", \"THB\", \"TRY\", \"TWD\", \"VND\", \"KRW\"]\n",
    "def get_currency_rate():\n",
    "    currenys.append({'USD': {'rate': usd_cur['cur'], 'currency_rate': '1.0'}})\n",
    "    dt = datetime.today()\n",
    "    today = dt.strftime('%m/%d/%Y')\n",
    "# \n",
    "# https://www.visakorea.com/cmsapi/fx/rates?amount=4.55&fee=2&utcConvertedDate=08%2F14%2F2023&exchangedate=08%2F14%2F2023&fromCurr=KRW&toCurr=USD\n",
    "    for cur in currencys_list:\n",
    "        # url = 'https://www.visakorea.com/travel-with-visa/exchange-rate-calculator.html?fromCurr=USD&toCurr={}&fee=0&utcConvertedDate={}&exchangedate={}&submitButton=Calculate+Exchange+Rates'.format(cur, today, today)\n",
    "        url = 'https://www.visakorea.com/cmsapi/fx/rates?amount={}&fee=0&utcConvertedDate={}&exchangedate={}&fromCurr=USD&toCurr={}'.format(usd, today, today, cur)\n",
    "        headers = {'User-Agent': 'Mozilla/5.0 (Macintosh; Intel Mac OS X 10_11_5) AppleWebKit/537.36 (KHTML, like Gecko) Chrome/50.0.2661.102 Safari/537.36'}\n",
    "        res = requests.get(url, headers=headers)\n",
    "        currency_rate = res.json()['originalValues']['fxRateVisa']\n",
    "\n",
    "        currenys.append({cur: {'rate': usd_cur['cur'], 'currency_rate': currency_rate if currency_rate != '' else '1.0'}})\n",
    "    return currenys\n"
   ]
  },
  {
   "cell_type": "code",
   "execution_count": 185,
   "id": "55065225",
   "metadata": {},
   "outputs": [],
   "source": [
    "currenys = get_currency_rate()"
   ]
  },
  {
   "cell_type": "code",
   "execution_count": 186,
   "id": "95f70bea",
   "metadata": {},
   "outputs": [
    {
     "data": {
      "text/plain": [
       "[{'USD': {'rate': 1333.7, 'currency_rate': '1.0'}},\n",
       " {'AED': {'rate': 1333.7, 'currency_rate': '0.2723308824'}},\n",
       " {'ARS': {'rate': 1333.7, 'currency_rate': '0.001945215'}},\n",
       " {'AUD': {'rate': 1333.7, 'currency_rate': '0.653599346'}},\n",
       " {'CAD': {'rate': 1333.7, 'currency_rate': '0.7457114094'}},\n",
       " {'CHF': {'rate': 1333.7, 'currency_rate': '1.1450807287'}},\n",
       " {'CLP': {'rate': 1333.7, 'currency_rate': '0.0011715089'}},\n",
       " {'CZK': {'rate': 1333.7, 'currency_rate': '0.0457246914'}},\n",
       " {'CNY': {'rate': 1333.7, 'currency_rate': '0.1383356931'}},\n",
       " {'DKK': {'rate': 1333.7, 'currency_rate': '0.1476994313'}},\n",
       " {'EUR': {'rate': 1333.7, 'currency_rate': '1.100698899'}},\n",
       " {'GBP': {'rate': 1333.7, 'currency_rate': '1.274198726'}},\n",
       " {'HKD': {'rate': 1333.7, 'currency_rate': '0.1280047874'}},\n",
       " {'HUF': {'rate': 1333.7, 'currency_rate': '0.0028785233'}},\n",
       " {'IDR': {'rate': 1333.7, 'currency_rate': '0.0000657333'}},\n",
       " {'INR': {'rate': 1333.7, 'currency_rate': '0.0120905706'}},\n",
       " {'JPY': {'rate': 1333.7, 'currency_rate': '0.0069247213'}},\n",
       " {'NPR': {'rate': 1333.7, 'currency_rate': '0.0075566066'}},\n",
       " {'NGN': {'rate': 1333.7, 'currency_rate': '0.0012880622'}},\n",
       " {'NZD': {'rate': 1333.7, 'currency_rate': '0.603599396'}},\n",
       " {'NOK': {'rate': 1333.7, 'currency_rate': '0.0971419829'}},\n",
       " {'MXN': {'rate': 1333.7, 'currency_rate': '0.0590081313'}},\n",
       " {'MYR': {'rate': 1333.7, 'currency_rate': '0.2188421052'}},\n",
       " {'PHP': {'rate': 1333.7, 'currency_rate': '0.0176706543'}},\n",
       " {'PLN': {'rate': 1333.7, 'currency_rate': '0.2486322725'}},\n",
       " {'RUB': {'rate': 1333.7, 'currency_rate': '0.0102776368'}},\n",
       " {'SAR': {'rate': 1333.7, 'currency_rate': '0.2665526708'}},\n",
       " {'SGD': {'rate': 1333.7, 'currency_rate': '0.7421693634'}},\n",
       " {'SEK': {'rate': 1333.7, 'currency_rate': '0.093696909'}},\n",
       " {'THB': {'rate': 1333.7, 'currency_rate': '0.0285795656'}},\n",
       " {'TRY': {'rate': 1333.7, 'currency_rate': '0.0372193749'}},\n",
       " {'TWD': {'rate': 1333.7, 'currency_rate': '0.0313676286'}},\n",
       " {'VND': {'rate': 1333.7, 'currency_rate': '0.0000421053'}},\n",
       " {'KRW': {'rate': 1333.7, 'currency_rate': '0.0007601788'}}]"
      ]
     },
     "execution_count": 186,
     "metadata": {},
     "output_type": "execute_result"
    }
   ],
   "source": [
    "currenys"
   ]
  },
  {
   "cell_type": "code",
   "execution_count": 187,
   "id": "6c29b22b",
   "metadata": {},
   "outputs": [],
   "source": [
    "def get_info_with_currency_and_value(cur, v):\n",
    "    idx = currencys_list.index(cur) + 1\n",
    "    return exCalc(round(v * float(currenys[idx][cur]['currency_rate']), 2))"
   ]
  },
  {
   "cell_type": "code",
   "execution_count": 188,
   "id": "4ae881c7",
   "metadata": {},
   "outputs": [
    {
     "data": {
      "text/plain": [
       "(4.49, 5998, 10.0)"
      ]
     },
     "execution_count": 188,
     "metadata": {},
     "output_type": "execute_result"
    }
   ],
   "source": [
    "exCalc(4.45)"
   ]
  },
  {
   "cell_type": "code",
   "execution_count": 189,
   "id": "f7e7c071",
   "metadata": {},
   "outputs": [
    {
     "data": {
      "text/plain": [
       "(0.05, 66, 0.0)"
      ]
     },
     "execution_count": 189,
     "metadata": {},
     "output_type": "execute_result"
    }
   ],
   "source": [
    "a = get_info_with_currency_and_value('ARS', 25)\n",
    "a"
   ]
  },
  {
   "cell_type": "code",
   "execution_count": 190,
   "id": "e860a018",
   "metadata": {},
   "outputs": [],
   "source": [
    "def get_all_info_currency_with_value():\n",
    "    currencys_list = [\"USD\", \"AED\", \"ARS\", \"AUD\", \"CAD\", \"CHF\", \"CLP\", \"CZK\", \"CNY\", \"DKK\", \"EUR\", \"GBP\", \"HKD\", \"HUF\", \"IDR\", \"INR\", \"JPY\", \"NPR\", \"NGN\", \"NZD\", \"NOK\", \"MXN\", \"MYR\", \"PHP\", \"PLN\", \"RUB\", \"SAR\", \"SGD\", \"SEK\", \"THB\", \"TRY\", \"TWD\", \"VND\", \"KRW\"]\n",
    "    comma = [0,2,0,2,2,2,0,2,2,2,2,2,2,2,2,2,0,2,2,2,2,2,2,2,2,2,2,2,2,2,2,2,0,0]\n",
    "    usd, krw, card_fee, usdv = default_value()\n",
    "\n",
    "    for idx, cur in enumerate(currencys_list):\n",
    "        for i in range(10, 20000000, 1):\n",
    "            t = i/100\n",
    "            a = t * float(currenys[idx][cur]['currency_rate']) \n",
    "            amount = 0\n",
    "            if (float(\"{}{}\".format(str(usd), 5)) <= a):                \n",
    "                prev = t - 0.01\n",
    "                if (comma[idx] == 0):\n",
    "                    amount = round_off(prev, 0) \n",
    "                else:\n",
    "                    amount = round(prev, 2)\n",
    "                currenys[idx][cur]['amount'] = amount if cur != 'USD' else usdv\n",
    "                currenys[idx][cur]['usd'] = usdv\n",
    "                currenys[idx][cur]['krw'] = krw\n",
    "                currenys[idx][cur]['card_fees'] = card_fee\n",
    "                break\n",
    "    return currenys"
   ]
  },
  {
   "cell_type": "code",
   "execution_count": 191,
   "id": "b2b4f7f8",
   "metadata": {},
   "outputs": [
    {
     "data": {
      "text/plain": [
       "[{'USD': {'rate': 1333.7,\n",
       "   'currency_rate': '1.0',\n",
       "   'amount': 4.49,\n",
       "   'usd': 4.49,\n",
       "   'krw': 5998,\n",
       "   'card_fees': 10.0}},\n",
       " {'AED': {'rate': 1333.7,\n",
       "   'currency_rate': '0.2723308824',\n",
       "   'amount': 16.35,\n",
       "   'usd': 4.49,\n",
       "   'krw': 5998,\n",
       "   'card_fees': 10.0}},\n",
       " {'ARS': {'rate': 1333.7,\n",
       "   'currency_rate': '0.001945215',\n",
       "   'amount': 2290.0,\n",
       "   'usd': 4.49,\n",
       "   'krw': 5998,\n",
       "   'card_fees': 10.0}},\n",
       " {'AUD': {'rate': 1333.7,\n",
       "   'currency_rate': '0.653599346',\n",
       "   'amount': 6.81,\n",
       "   'usd': 4.49,\n",
       "   'krw': 5998,\n",
       "   'card_fees': 10.0}},\n",
       " {'CAD': {'rate': 1333.7,\n",
       "   'currency_rate': '0.7457114094',\n",
       "   'amount': 5.97,\n",
       "   'usd': 4.49,\n",
       "   'krw': 5998,\n",
       "   'card_fees': 10.0}},\n",
       " {'CHF': {'rate': 1333.7,\n",
       "   'currency_rate': '1.1450807287',\n",
       "   'amount': 3.89,\n",
       "   'usd': 4.49,\n",
       "   'krw': 5998,\n",
       "   'card_fees': 10.0}},\n",
       " {'CLP': {'rate': 1333.7,\n",
       "   'currency_rate': '0.0011715089',\n",
       "   'amount': 3802.0,\n",
       "   'usd': 4.49,\n",
       "   'krw': 5998,\n",
       "   'card_fees': 10.0}},\n",
       " {'CZK': {'rate': 1333.7,\n",
       "   'currency_rate': '0.0457246914',\n",
       "   'amount': 97.43,\n",
       "   'usd': 4.49,\n",
       "   'krw': 5998,\n",
       "   'card_fees': 10.0}},\n",
       " {'CNY': {'rate': 1333.7,\n",
       "   'currency_rate': '0.1383356931',\n",
       "   'amount': 32.2,\n",
       "   'usd': 4.49,\n",
       "   'krw': 5998,\n",
       "   'card_fees': 10.0}},\n",
       " {'DKK': {'rate': 1333.7,\n",
       "   'currency_rate': '0.1476994313',\n",
       "   'amount': 30.16,\n",
       "   'usd': 4.49,\n",
       "   'krw': 5998,\n",
       "   'card_fees': 10.0}},\n",
       " {'EUR': {'rate': 1333.7,\n",
       "   'currency_rate': '1.100698899',\n",
       "   'amount': 4.04,\n",
       "   'usd': 4.49,\n",
       "   'krw': 5998,\n",
       "   'card_fees': 10.0}},\n",
       " {'GBP': {'rate': 1333.7,\n",
       "   'currency_rate': '1.274198726',\n",
       "   'amount': 3.49,\n",
       "   'usd': 4.49,\n",
       "   'krw': 5998,\n",
       "   'card_fees': 10.0}},\n",
       " {'HKD': {'rate': 1333.7,\n",
       "   'currency_rate': '0.1280047874',\n",
       "   'amount': 34.8,\n",
       "   'usd': 4.49,\n",
       "   'krw': 5998,\n",
       "   'card_fees': 10.0}},\n",
       " {'HUF': {'rate': 1333.7,\n",
       "   'currency_rate': '0.0028785233',\n",
       "   'amount': 1547.66,\n",
       "   'usd': 4.49,\n",
       "   'krw': 5998,\n",
       "   'card_fees': 10.0}},\n",
       " {'IDR': {'rate': 1333.7,\n",
       "   'currency_rate': '0.0000657333',\n",
       "   'amount': 67773.86,\n",
       "   'usd': 4.49,\n",
       "   'krw': 5998,\n",
       "   'card_fees': 10.0}},\n",
       " {'INR': {'rate': 1333.7,\n",
       "   'currency_rate': '0.0120905706',\n",
       "   'amount': 368.46,\n",
       "   'usd': 4.49,\n",
       "   'krw': 5998,\n",
       "   'card_fees': 10.0}},\n",
       " {'JPY': {'rate': 1333.7,\n",
       "   'currency_rate': '0.0069247213',\n",
       "   'amount': 643.0,\n",
       "   'usd': 4.49,\n",
       "   'krw': 5998,\n",
       "   'card_fees': 10.0}},\n",
       " {'NPR': {'rate': 1333.7,\n",
       "   'currency_rate': '0.0075566066',\n",
       "   'amount': 589.55,\n",
       "   'usd': 4.49,\n",
       "   'krw': 5998,\n",
       "   'card_fees': 10.0}},\n",
       " {'NGN': {'rate': 1333.7,\n",
       "   'currency_rate': '0.0012880622',\n",
       "   'amount': 3458.68,\n",
       "   'usd': 4.49,\n",
       "   'krw': 5998,\n",
       "   'card_fees': 10.0}},\n",
       " {'NZD': {'rate': 1333.7,\n",
       "   'currency_rate': '0.603599396',\n",
       "   'amount': 7.38,\n",
       "   'usd': 4.49,\n",
       "   'krw': 5998,\n",
       "   'card_fees': 10.0}},\n",
       " {'NOK': {'rate': 1333.7,\n",
       "   'currency_rate': '0.0971419829',\n",
       "   'amount': 45.86,\n",
       "   'usd': 4.49,\n",
       "   'krw': 5998,\n",
       "   'card_fees': 10.0}},\n",
       " {'MXN': {'rate': 1333.7,\n",
       "   'currency_rate': '0.0590081313',\n",
       "   'amount': 75.49,\n",
       "   'usd': 4.49,\n",
       "   'krw': 5998,\n",
       "   'card_fees': 10.0}},\n",
       " {'MYR': {'rate': 1333.7,\n",
       "   'currency_rate': '0.2188421052',\n",
       "   'amount': 20.35,\n",
       "   'usd': 4.49,\n",
       "   'krw': 5998,\n",
       "   'card_fees': 10.0}},\n",
       " {'PHP': {'rate': 1333.7,\n",
       "   'currency_rate': '0.0176706543',\n",
       "   'amount': 252.11,\n",
       "   'usd': 4.49,\n",
       "   'krw': 5998,\n",
       "   'card_fees': 10.0}},\n",
       " {'PLN': {'rate': 1333.7,\n",
       "   'currency_rate': '0.2486322725',\n",
       "   'amount': 17.91,\n",
       "   'usd': 4.49,\n",
       "   'krw': 5998,\n",
       "   'card_fees': 10.0}},\n",
       " {'RUB': {'rate': 1333.7,\n",
       "   'currency_rate': '0.0102776368',\n",
       "   'amount': 433.46,\n",
       "   'usd': 4.49,\n",
       "   'krw': 5998,\n",
       "   'card_fees': 10.0}},\n",
       " {'SAR': {'rate': 1333.7,\n",
       "   'currency_rate': '0.2665526708',\n",
       "   'amount': 16.71,\n",
       "   'usd': 4.49,\n",
       "   'krw': 5998,\n",
       "   'card_fees': 10.0}},\n",
       " {'SGD': {'rate': 1333.7,\n",
       "   'currency_rate': '0.7421693634',\n",
       "   'amount': 6.0,\n",
       "   'usd': 4.49,\n",
       "   'krw': 5998,\n",
       "   'card_fees': 10.0}},\n",
       " {'SEK': {'rate': 1333.7,\n",
       "   'currency_rate': '0.093696909',\n",
       "   'amount': 47.54,\n",
       "   'usd': 4.49,\n",
       "   'krw': 5998,\n",
       "   'card_fees': 10.0}},\n",
       " {'THB': {'rate': 1333.7,\n",
       "   'currency_rate': '0.0285795656',\n",
       "   'amount': 155.88,\n",
       "   'usd': 4.49,\n",
       "   'krw': 5998,\n",
       "   'card_fees': 10.0}},\n",
       " {'TRY': {'rate': 1333.7,\n",
       "   'currency_rate': '0.0372193749',\n",
       "   'amount': 119.69,\n",
       "   'usd': 4.49,\n",
       "   'krw': 5998,\n",
       "   'card_fees': 10.0}},\n",
       " {'TWD': {'rate': 1333.7,\n",
       "   'currency_rate': '0.0313676286',\n",
       "   'amount': 142.02,\n",
       "   'usd': 4.49,\n",
       "   'krw': 5998,\n",
       "   'card_fees': 10.0}},\n",
       " {'VND': {'rate': 1333.7,\n",
       "   'currency_rate': '0.0000421053',\n",
       "   'amount': 105806.0,\n",
       "   'usd': 4.49,\n",
       "   'krw': 5998,\n",
       "   'card_fees': 10.0}},\n",
       " {'KRW': {'rate': 1333.7,\n",
       "   'currency_rate': '0.0007601788',\n",
       "   'amount': 5860.0,\n",
       "   'usd': 4.49,\n",
       "   'krw': 5998,\n",
       "   'card_fees': 10.0}}]"
      ]
     },
     "execution_count": 191,
     "metadata": {},
     "output_type": "execute_result"
    }
   ],
   "source": [
    "a = get_all_info_currency_with_value()\n",
    "a"
   ]
  }
 ],
 "metadata": {
  "kernelspec": {
   "display_name": "penv",
   "language": "python",
   "name": "python3"
  },
  "language_info": {
   "codemirror_mode": {
    "name": "ipython",
    "version": 3
   },
   "file_extension": ".py",
   "mimetype": "text/x-python",
   "name": "python",
   "nbconvert_exporter": "python",
   "pygments_lexer": "ipython3",
   "version": "3.10.4"
  },
  "vscode": {
   "interpreter": {
    "hash": "8a5edab282632443219e051e4ade2d1d5bbc671c781051bf1437897cbdfea0f1"
   }
  }
 },
 "nbformat": 4,
 "nbformat_minor": 5
}
