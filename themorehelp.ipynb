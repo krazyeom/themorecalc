{
 "cells": [
  {
   "cell_type": "code",
   "execution_count": 378,
   "id": "0dadd351",
   "metadata": {},
   "outputs": [],
   "source": [
    "import requests, json\n",
    "from datetime import datetime\n",
    "import math\n",
    "import urllib.parse"
   ]
  },
  {
   "cell_type": "code",
   "execution_count": 379,
   "id": "4a804f2f",
   "metadata": {},
   "outputs": [],
   "source": [
    "\n",
    "def get_usd_curreny():\n",
    "    dt = datetime.today()\n",
    "    today = dt.strftime('%Y%m%d')\n",
    "\n",
    "    data = {\"dataBody\":{\"ricInptRootInfo\":{\"serviceType\":\"GU\",\"serviceCode\":\"F3730\",\"nextServiceCode\":\"\",\"pkcs7Data\":\"\",\"signCode\":\"\",\"signData\":\"\",\"useSign\":\"\",\"useCert\":\"\",\"permitMultiTransaction\":\"\",\"keepTransactionSession\":\"\",\"skipErrorMsg\":\"\",\"mode\":\"\",\"language\":\"ko\",\"exe2e\":\"\",\"hideProcess\":\"\",\"clearTarget\":\"\",\"callBack\":\"shbObj.fncF3730Callback\",\"exceptionCallback\":\"\",\"requestMessage\":\"\",\"responseMessage\":\"\",\"serviceOption\":\"\",\"pcLog\":\"\",\"preInqForMulti\":\"\",\"makesum\":\"\",\"removeIndex\":\"\",\"redirectUrl\":\"\",\"preInqKey\":\"\",\"_multi_transfer_\":\"\",\"_multi_transfer_count_\":\"\",\"_multi_transfer_amt_\":\"\",\"userCallback\":\"\",\"menuCode\":\"\",\"certtype\":\"\",\"fromMulti\":\"\",\"fromMultiIdx\":\"\",\"isRule\":\"N\",\"webUri\":\"/index.jsp\",\"gubun\":\"\",\"tmpField2\":\"\"},\"조회구분\":\"\",\"조회일자\":today,\"고시회차\":1,\"조회일자_display\":\"\",\"startPoint\":\"\",\"endPoint\":\"\"},\"dataHeader\":{\"trxCd\":\"RSHRC0213A01\",\"language\":\"ko\",\"subChannel\":\"49\",\"channelGbn\":\"D0\"}}\n",
    "    url = 'https://bank.shinhan.com/serviceEndpoint/httpDigital'\n",
    "\n",
    "    res = requests.post(url, data=json.dumps(data))\n",
    "\n",
    "\n",
    "    currency_exchanges = res.json()['dataBody']['R_RIBF3730_1']\n",
    "    return {'code': currency_exchanges[0]['통화CODE'], 'cur': currency_exchanges[0]['전신환매도환율']}\n",
    "    #전신환매도환율\n",
    "    #통화CODE\n",
    "usd_cur = get_usd_curreny()"
   ]
  },
  {
   "cell_type": "code",
   "execution_count": 380,
   "id": "d762c496",
   "metadata": {},
   "outputs": [
    {
     "data": {
      "text/plain": [
       "1333.7"
      ]
     },
     "execution_count": 380,
     "metadata": {},
     "output_type": "execute_result"
    }
   ],
   "source": [
    "usd_cur['cur']"
   ]
  },
  {
   "cell_type": "code",
   "execution_count": 381,
   "id": "21a2abb6",
   "metadata": {},
   "outputs": [],
   "source": [
    "\n",
    "def round_off(num, pos=2):\n",
    "    t = str(num).split('.')\n",
    "    t[1] = t[1][:pos]\n",
    "    return float(\".\".join(t))"
   ]
  },
  {
   "cell_type": "code",
   "execution_count": 382,
   "id": "6dd2c81b",
   "metadata": {},
   "outputs": [
    {
     "data": {
      "text/plain": [
       "(4.49, 5998, 10.0)"
      ]
     },
     "execution_count": 382,
     "metadata": {},
     "output_type": "execute_result"
    }
   ],
   "source": [
    "# usd_cur = {'code': 'USD', 'cur': '1296.40'}\n",
    "\n",
    "card_fee = 0\n",
    "\n",
    "def exCalc(v):\n",
    "    visafee = v * 0.011;\n",
    "    visafee = float(round_off(visafee));\n",
    "    t = round(v * float(usd_cur['cur']))\n",
    "    card_fee = t * 0.0018\n",
    "    card_fee = round_off(card_fee, 0)\n",
    "    krw = ((v + visafee) * float(usd_cur['cur'])) + card_fee\n",
    "    return (v+visafee, int(krw), card_fee)\n",
    "\n",
    "exCalc(4.45)"
   ]
  },
  {
   "cell_type": "code",
   "execution_count": 383,
   "id": "1d0f0849",
   "metadata": {},
   "outputs": [
    {
     "data": {
      "text/plain": [
       "(4.45, 5998, 10.0, 4.49)"
      ]
     },
     "execution_count": 383,
     "metadata": {},
     "output_type": "execute_result"
    }
   ],
   "source": [
    "def default_value():\n",
    "    tar = 5999\n",
    "    for i in range(600, 400, -1):\n",
    "        usd = i/100\n",
    "        usdv, krw, card_fee = exCalc(usd)\n",
    "        if (krw < 6000):\n",
    "            return (usd, krw, card_fee, usdv)\n",
    "        \n",
    "\n",
    "usd, krw, card_fee, usdv = default_value()\n",
    "usd, krw, card_fee, usdv"
   ]
  },
  {
   "cell_type": "code",
   "execution_count": 384,
   "id": "96e9b40d",
   "metadata": {},
   "outputs": [],
   "source": [
    "currenys = {}\n",
    "currencys_list = [\"AED\", \"ARS\", \"AUD\", \"CAD\", \"CHF\", \"CLP\", \"CZK\", \"CNY\", \"DKK\", \"EUR\", \"GBP\", \"HKD\", \"HUF\", \"IDR\", \"INR\", \"JPY\", \"NPR\", \"NGN\", \"NZD\", \"NOK\", \"MXN\", \"MYR\", \"PHP\", \"PLN\", \"RUB\", \"SAR\", \"SGD\", \"SEK\", \"THB\", \"TRY\", \"TWD\", \"VND\", \"KRW\"]\n",
    "def get_currency_rate():\n",
    "    currenys['USD'] = {'rate': usd_cur['cur'], 'currency_rate': '1.0'}\n",
    "    dt = datetime.today()\n",
    "    today = dt.strftime('%m/%d/%Y')\n",
    "# \n",
    "# https://www.visakorea.com/cmsapi/fx/rates?amount=4.55&fee=2&utcConvertedDate=08%2F14%2F2023&exchangedate=08%2F14%2F2023&fromCurr=KRW&toCurr=USD\n",
    "    for cur in currencys_list:\n",
    "        # url = 'https://www.visakorea.com/travel-with-visa/exchange-rate-calculator.html?fromCurr=USD&toCurr={}&fee=0&utcConvertedDate={}&exchangedate={}&submitButton=Calculate+Exchange+Rates'.format(cur, today, today)\n",
    "        url = 'https://www.visakorea.com/cmsapi/fx/rates?amount={}&fee=0&utcConvertedDate={}&exchangedate={}&fromCurr=USD&toCurr={}'.format(usd, today, today, cur)\n",
    "        headers = {'User-Agent': 'Mozilla/5.0 (Macintosh; Intel Mac OS X 10_11_5) AppleWebKit/537.36 (KHTML, like Gecko) Chrome/50.0.2661.102 Safari/537.36'}\n",
    "        res = requests.get(url, headers=headers)\n",
    "        if len(res.json()) == 1:\n",
    "            currenys[cur] = {'rate': usd_cur['cur'], 'currency_rate': '0.0'}\n",
    "            continue\n",
    "        currency_rate = res.json()['originalValues']['fxRateVisa']\n",
    "        currenys[cur] = {'rate': usd_cur['cur'], 'currency_rate': currency_rate if currency_rate != '' else '1.0'}\n",
    "    return currenys\n"
   ]
  },
  {
   "cell_type": "code",
   "execution_count": 385,
   "id": "55065225",
   "metadata": {},
   "outputs": [],
   "source": [
    "currenys = get_currency_rate()"
   ]
  },
  {
   "cell_type": "code",
   "execution_count": null,
   "id": "95f70bea",
   "metadata": {},
   "outputs": [
    {
     "data": {
      "text/plain": [
       "{'USD': {'rate': 1333.7, 'currency_rate': '1.0'},\n",
       " 'AED': {'rate': 1333.7, 'currency_rate': '0.2723160503'},\n",
       " 'ARS': {'rate': 1333.7, 'currency_rate': '0.0017093316'},\n",
       " 'AUD': {'rate': 1333.7, 'currency_rate': '0.651199349'},\n",
       " 'CAD': {'rate': 1333.7, 'currency_rate': '0.7444900239'},\n",
       " 'CHF': {'rate': 1333.7, 'currency_rate': '1.1424642983'},\n",
       " 'CLP': {'rate': 1333.7, 'currency_rate': '0.0011634671'},\n",
       " 'CZK': {'rate': 1333.7, 'currency_rate': '0.0456183112'},\n",
       " 'CNY': {'rate': 1333.7, 'currency_rate': '0.1378466925'},\n",
       " 'DKK': {'rate': 1333.7, 'currency_rate': '0.1471863823'},\n",
       " 'EUR': {'rate': 1333.7, 'currency_rate': '1.096198904'},\n",
       " 'GBP': {'rate': 1333.7, 'currency_rate': '1.272098728'},\n",
       " 'HKD': {'rate': 1333.7, 'currency_rate': '0.1279703876'},\n",
       " 'HUF': {'rate': 1333.7, 'currency_rate': '0.0028691083'},\n",
       " 'IDR': {'rate': 1333.7, 'currency_rate': '0.0'},\n",
       " 'INR': {'rate': 1333.7, 'currency_rate': '0.0120675178'},\n",
       " 'JPY': {'rate': 1333.7, 'currency_rate': '0.0069132319'},\n",
       " 'NPR': {'rate': 1333.7, 'currency_rate': '0.0075421986'},\n",
       " 'NGN': {'rate': 1333.7, 'currency_rate': '0.0013077366'},\n",
       " 'NZD': {'rate': 1333.7, 'currency_rate': '0.6002994'},\n",
       " 'NOK': {'rate': 1333.7, 'currency_rate': '0.0964700604'},\n",
       " 'MXN': {'rate': 1333.7, 'currency_rate': '0.0590119617'},\n",
       " 'MYR': {'rate': 1333.7, 'currency_rate': '0.2177224037'},\n",
       " 'PHP': {'rate': 1333.7, 'currency_rate': '0.0175882932'},\n",
       " 'PLN': {'rate': 1333.7, 'currency_rate': '0.2476961756'},\n",
       " 'RUB': {'rate': 1333.7, 'currency_rate': '0.0102071781'},\n",
       " 'SAR': {'rate': 1333.7, 'currency_rate': '0.2666379586'},\n",
       " 'SGD': {'rate': 1333.7, 'currency_rate': '0.7402465023'},\n",
       " 'SEK': {'rate': 1333.7, 'currency_rate': '0.0928728384'},\n",
       " 'THB': {'rate': 1333.7, 'currency_rate': '0.0285062429'},\n",
       " 'TRY': {'rate': 1333.7, 'currency_rate': '0.0371385119'},\n",
       " 'TWD': {'rate': 1333.7, 'currency_rate': '0.0313008639'},\n",
       " 'VND': {'rate': 1333.7, 'currency_rate': '0.0000419886'},\n",
       " 'KRW': {'rate': 1333.7, 'currency_rate': '0.0007531879'}}"
      ]
     },
     "execution_count": 371,
     "metadata": {},
     "output_type": "execute_result"
    }
   ],
   "source": [
    "currenys"
   ]
  },
  {
   "cell_type": "code",
   "execution_count": null,
   "id": "6c29b22b",
   "metadata": {},
   "outputs": [],
   "source": [
    "def get_info_with_currency_and_value(cur, v):\n",
    "    # idx = currencys_list.index(cur) + 1\n",
    "    return exCalc(round(v * float(currenys[cur]['currency_rate']), 2))"
   ]
  },
  {
   "cell_type": "code",
   "execution_count": null,
   "id": "4ae881c7",
   "metadata": {},
   "outputs": [
    {
     "data": {
      "text/plain": [
       "(4.49, 5998, 10.0)"
      ]
     },
     "execution_count": 373,
     "metadata": {},
     "output_type": "execute_result"
    }
   ],
   "source": [
    "exCalc(4.45)"
   ]
  },
  {
   "cell_type": "code",
   "execution_count": null,
   "id": "f7e7c071",
   "metadata": {},
   "outputs": [
    {
     "data": {
      "text/plain": [
       "(2.74, 3660, 6.0)"
      ]
     },
     "execution_count": 374,
     "metadata": {},
     "output_type": "execute_result"
    }
   ],
   "source": [
    "a = get_info_with_currency_and_value('AED', 10)\n",
    "a"
   ]
  },
  {
   "cell_type": "code",
   "execution_count": null,
   "id": "e860a018",
   "metadata": {},
   "outputs": [],
   "source": [
    "def get_all_info_currency_with_value():\n",
    "    currencys_list = [\"USD\", \"AED\", \"ARS\", \"AUD\", \"CAD\", \"CHF\", \"CLP\", \"CZK\", \"CNY\", \"DKK\", \"EUR\", \"GBP\", \"HKD\", \"HUF\", \"IDR\", \"INR\", \"JPY\", \"NPR\", \"NGN\", \"NZD\", \"NOK\", \"MXN\", \"MYR\", \"PHP\", \"PLN\", \"RUB\", \"SAR\", \"SGD\", \"SEK\", \"THB\", \"TRY\", \"TWD\", \"VND\", \"KRW\"]\n",
    "    comma = [0,2,0,2,2,2,0,2,2,2,2,2,2,2,2,2,0,2,2,2,2,2,2,2,2,2,2,2,2,2,2,2,0,0]\n",
    "    usd, krw, card_fee, usdv = default_value()\n",
    "\n",
    "    for idx, cur in enumerate(currencys_list):\n",
    "        for i in range(10, 20000000, 1):\n",
    "            t = i/100\n",
    "            a = t * float(currenys[cur]['currency_rate']) \n",
    "            amount = 0\n",
    "            if (float(\"{}{}\".format(str(usd), 5)) <= a):                \n",
    "                prev = t - 0.01\n",
    "                if (comma[idx] == 0):\n",
    "                    amount = round_off(prev, 0) \n",
    "                else:\n",
    "                    amount = round(prev, 2)\n",
    "                currenys[cur]['cur'] = cur\n",
    "                currenys[cur]['amount'] = amount if cur != 'USD' else usdv\n",
    "                currenys[cur]['usd'] = usdv\n",
    "                currenys[cur]['krw'] = krw\n",
    "                currenys[cur]['card_fees'] = card_fee\n",
    "                break\n",
    "    return currenys"
   ]
  },
  {
   "cell_type": "code",
   "execution_count": null,
   "id": "b2b4f7f8",
   "metadata": {},
   "outputs": [
    {
     "data": {
      "text/plain": [
       "{'USD': {'rate': 1333.7,\n",
       "  'currency_rate': '1.0',\n",
       "  'cur': 'USD',\n",
       "  'amount': 4.49,\n",
       "  'usd': 4.49,\n",
       "  'krw': 5998,\n",
       "  'card_fees': 10.0},\n",
       " 'AED': {'rate': 1333.7,\n",
       "  'currency_rate': '0.2723160503',\n",
       "  'cur': 'AED',\n",
       "  'amount': 16.35,\n",
       "  'usd': 4.49,\n",
       "  'krw': 5998,\n",
       "  'card_fees': 10.0},\n",
       " 'ARS': {'rate': 1333.7,\n",
       "  'currency_rate': '0.0017093316',\n",
       "  'cur': 'ARS',\n",
       "  'amount': 2606.0,\n",
       "  'usd': 4.49,\n",
       "  'krw': 5998,\n",
       "  'card_fees': 10.0},\n",
       " 'AUD': {'rate': 1333.7,\n",
       "  'currency_rate': '0.651199349',\n",
       "  'cur': 'AUD',\n",
       "  'amount': 6.84,\n",
       "  'usd': 4.49,\n",
       "  'krw': 5998,\n",
       "  'card_fees': 10.0},\n",
       " 'CAD': {'rate': 1333.7,\n",
       "  'currency_rate': '0.7444900239',\n",
       "  'cur': 'CAD',\n",
       "  'amount': 5.98,\n",
       "  'usd': 4.49,\n",
       "  'krw': 5998,\n",
       "  'card_fees': 10.0},\n",
       " 'CHF': {'rate': 1333.7,\n",
       "  'currency_rate': '1.1424642983',\n",
       "  'cur': 'CHF',\n",
       "  'amount': 3.89,\n",
       "  'usd': 4.49,\n",
       "  'krw': 5998,\n",
       "  'card_fees': 10.0},\n",
       " 'CLP': {'rate': 1333.7,\n",
       "  'currency_rate': '0.0011634671',\n",
       "  'cur': 'CLP',\n",
       "  'amount': 3829.0,\n",
       "  'usd': 4.49,\n",
       "  'krw': 5998,\n",
       "  'card_fees': 10.0},\n",
       " 'CZK': {'rate': 1333.7,\n",
       "  'currency_rate': '0.0456183112',\n",
       "  'cur': 'CZK',\n",
       "  'amount': 97.65,\n",
       "  'usd': 4.49,\n",
       "  'krw': 5998,\n",
       "  'card_fees': 10.0},\n",
       " 'CNY': {'rate': 1333.7,\n",
       "  'currency_rate': '0.1378466925',\n",
       "  'cur': 'CNY',\n",
       "  'amount': 32.31,\n",
       "  'usd': 4.49,\n",
       "  'krw': 5998,\n",
       "  'card_fees': 10.0},\n",
       " 'DKK': {'rate': 1333.7,\n",
       "  'currency_rate': '0.1471863823',\n",
       "  'cur': 'DKK',\n",
       "  'amount': 30.26,\n",
       "  'usd': 4.49,\n",
       "  'krw': 5998,\n",
       "  'card_fees': 10.0},\n",
       " 'EUR': {'rate': 1333.7,\n",
       "  'currency_rate': '1.096198904',\n",
       "  'cur': 'EUR',\n",
       "  'amount': 4.06,\n",
       "  'usd': 4.49,\n",
       "  'krw': 5998,\n",
       "  'card_fees': 10.0},\n",
       " 'GBP': {'rate': 1333.7,\n",
       "  'currency_rate': '1.272098728',\n",
       "  'cur': 'GBP',\n",
       "  'amount': 3.5,\n",
       "  'usd': 4.49,\n",
       "  'krw': 5998,\n",
       "  'card_fees': 10.0},\n",
       " 'HKD': {'rate': 1333.7,\n",
       "  'currency_rate': '0.1279703876',\n",
       "  'cur': 'HKD',\n",
       "  'amount': 34.81,\n",
       "  'usd': 4.49,\n",
       "  'krw': 5998,\n",
       "  'card_fees': 10.0},\n",
       " 'HUF': {'rate': 1333.7,\n",
       "  'currency_rate': '0.0028691083',\n",
       "  'cur': 'HUF',\n",
       "  'amount': 1552.74,\n",
       "  'usd': 4.49,\n",
       "  'krw': 5998,\n",
       "  'card_fees': 10.0},\n",
       " 'IDR': {'rate': 1333.7, 'currency_rate': '0.0'},\n",
       " 'INR': {'rate': 1333.7,\n",
       "  'currency_rate': '0.0120675178',\n",
       "  'cur': 'INR',\n",
       "  'amount': 369.17,\n",
       "  'usd': 4.49,\n",
       "  'krw': 5998,\n",
       "  'card_fees': 10.0},\n",
       " 'JPY': {'rate': 1333.7,\n",
       "  'currency_rate': '0.0069132319',\n",
       "  'cur': 'JPY',\n",
       "  'amount': 644.0,\n",
       "  'usd': 4.49,\n",
       "  'krw': 5998,\n",
       "  'card_fees': 10.0},\n",
       " 'NPR': {'rate': 1333.7,\n",
       "  'currency_rate': '0.0075421986',\n",
       "  'cur': 'NPR',\n",
       "  'amount': 590.67,\n",
       "  'usd': 4.49,\n",
       "  'krw': 5998,\n",
       "  'card_fees': 10.0},\n",
       " 'NGN': {'rate': 1333.7,\n",
       "  'currency_rate': '0.0013077366',\n",
       "  'cur': 'NGN',\n",
       "  'amount': 3406.64,\n",
       "  'usd': 4.49,\n",
       "  'krw': 5998,\n",
       "  'card_fees': 10.0},\n",
       " 'NZD': {'rate': 1333.7,\n",
       "  'currency_rate': '0.6002994',\n",
       "  'cur': 'NZD',\n",
       "  'amount': 7.42,\n",
       "  'usd': 4.49,\n",
       "  'krw': 5998,\n",
       "  'card_fees': 10.0},\n",
       " 'NOK': {'rate': 1333.7,\n",
       "  'currency_rate': '0.0964700604',\n",
       "  'cur': 'NOK',\n",
       "  'amount': 46.18,\n",
       "  'usd': 4.49,\n",
       "  'krw': 5998,\n",
       "  'card_fees': 10.0},\n",
       " 'MXN': {'rate': 1333.7,\n",
       "  'currency_rate': '0.0590119617',\n",
       "  'cur': 'MXN',\n",
       "  'amount': 75.49,\n",
       "  'usd': 4.49,\n",
       "  'krw': 5998,\n",
       "  'card_fees': 10.0},\n",
       " 'MYR': {'rate': 1333.7,\n",
       "  'currency_rate': '0.2177224037',\n",
       "  'cur': 'MYR',\n",
       "  'amount': 20.46,\n",
       "  'usd': 4.49,\n",
       "  'krw': 5998,\n",
       "  'card_fees': 10.0},\n",
       " 'PHP': {'rate': 1333.7,\n",
       "  'currency_rate': '0.0175882932',\n",
       "  'cur': 'PHP',\n",
       "  'amount': 253.29,\n",
       "  'usd': 4.49,\n",
       "  'krw': 5998,\n",
       "  'card_fees': 10.0},\n",
       " 'PLN': {'rate': 1333.7,\n",
       "  'currency_rate': '0.2476961756',\n",
       "  'cur': 'PLN',\n",
       "  'amount': 17.98,\n",
       "  'usd': 4.49,\n",
       "  'krw': 5998,\n",
       "  'card_fees': 10.0},\n",
       " 'RUB': {'rate': 1333.7,\n",
       "  'currency_rate': '0.0102071781',\n",
       "  'cur': 'RUB',\n",
       "  'amount': 436.45,\n",
       "  'usd': 4.49,\n",
       "  'krw': 5998,\n",
       "  'card_fees': 10.0},\n",
       " 'SAR': {'rate': 1333.7,\n",
       "  'currency_rate': '0.2666379586',\n",
       "  'cur': 'SAR',\n",
       "  'amount': 16.7,\n",
       "  'usd': 4.49,\n",
       "  'krw': 5998,\n",
       "  'card_fees': 10.0},\n",
       " 'SGD': {'rate': 1333.7,\n",
       "  'currency_rate': '0.7402465023',\n",
       "  'cur': 'SGD',\n",
       "  'amount': 6.01,\n",
       "  'usd': 4.49,\n",
       "  'krw': 5998,\n",
       "  'card_fees': 10.0},\n",
       " 'SEK': {'rate': 1333.7,\n",
       "  'currency_rate': '0.0928728384',\n",
       "  'cur': 'SEK',\n",
       "  'amount': 47.96,\n",
       "  'usd': 4.49,\n",
       "  'krw': 5998,\n",
       "  'card_fees': 10.0},\n",
       " 'THB': {'rate': 1333.7,\n",
       "  'currency_rate': '0.0285062429',\n",
       "  'cur': 'THB',\n",
       "  'amount': 156.28,\n",
       "  'usd': 4.49,\n",
       "  'krw': 5998,\n",
       "  'card_fees': 10.0},\n",
       " 'TRY': {'rate': 1333.7,\n",
       "  'currency_rate': '0.0371385119',\n",
       "  'cur': 'TRY',\n",
       "  'amount': 119.95,\n",
       "  'usd': 4.49,\n",
       "  'krw': 5998,\n",
       "  'card_fees': 10.0},\n",
       " 'TWD': {'rate': 1333.7,\n",
       "  'currency_rate': '0.0313008639',\n",
       "  'cur': 'TWD',\n",
       "  'amount': 142.32,\n",
       "  'usd': 4.49,\n",
       "  'krw': 5998,\n",
       "  'card_fees': 10.0},\n",
       " 'VND': {'rate': 1333.7,\n",
       "  'currency_rate': '0.0000419886',\n",
       "  'cur': 'VND',\n",
       "  'amount': 106100.0,\n",
       "  'usd': 4.49,\n",
       "  'krw': 5998,\n",
       "  'card_fees': 10.0},\n",
       " 'KRW': {'rate': 1333.7,\n",
       "  'currency_rate': '0.0007531879',\n",
       "  'cur': 'KRW',\n",
       "  'amount': 5914.0,\n",
       "  'usd': 4.49,\n",
       "  'krw': 5998,\n",
       "  'card_fees': 10.0}}"
      ]
     },
     "execution_count": 376,
     "metadata": {},
     "output_type": "execute_result"
    }
   ],
   "source": [
    "a = get_all_info_currency_with_value()\n",
    "a\n"
   ]
  },
  {
   "cell_type": "code",
   "execution_count": null,
   "id": "ee83e154",
   "metadata": {},
   "outputs": [
    {
     "data": {
      "text/plain": [
       "{'rate': 1333.7,\n",
       " 'currency_rate': '0.0175882932',\n",
       " 'cur': 'PHP',\n",
       " 'amount': 253.29,\n",
       " 'usd': 4.49,\n",
       " 'krw': 5998,\n",
       " 'card_fees': 10.0}"
      ]
     },
     "execution_count": 377,
     "metadata": {},
     "output_type": "execute_result"
    }
   ],
   "source": [
    "a['PHP']"
   ]
  }
 ],
 "metadata": {
  "kernelspec": {
   "display_name": "penv",
   "language": "python",
   "name": "python3"
  },
  "language_info": {
   "codemirror_mode": {
    "name": "ipython",
    "version": 3
   },
   "file_extension": ".py",
   "mimetype": "text/x-python",
   "name": "python",
   "nbconvert_exporter": "python",
   "pygments_lexer": "ipython3",
   "version": "3.10.4"
  },
  "vscode": {
   "interpreter": {
    "hash": "8a5edab282632443219e051e4ade2d1d5bbc671c781051bf1437897cbdfea0f1"
   }
  }
 },
 "nbformat": 4,
 "nbformat_minor": 5
}
