{
 "cells": [
  {
   "cell_type": "code",
   "execution_count": 14,
   "id": "0dadd351",
   "metadata": {},
   "outputs": [],
   "source": [
    "from bs4 import BeautifulSoup as bs\n",
    "import requests, json\n",
    "from datetime import datetime"
   ]
  },
  {
   "cell_type": "code",
   "execution_count": 19,
   "id": "a55d745e",
   "metadata": {},
   "outputs": [],
   "source": [
    "def get_usd_curreny():\n",
    "    dt = datetime.today()\n",
    "    today = dt.strftime('%Y%m%d')\n",
    "\n",
    "    data = {\"root_info\":{\"serviceType\":\"GU\",\"serviceCode\":\"F3730\",\"nextServiceCode\":\"\",\"pkcs7Data\":\"\",\"signCode\":\"\",\"signData\":\"\",\"useSign\":\"\",\"useCert\":\"\",\"permitMultiTransaction\":\"\",\"keepTransactionSession\":\"\",\"skipErrorMsg\":\"\",\"mode\":\"\",\"language\":\"ko\",\"exe2e\":\"\",\"hideProcess\":\"\",\"clearTarget\":\"data:json,[{\\\"id\\\":\\\"dm_R_RIBF3730\\\",\\\"key\\\":\\\"R_RIBF3730\\\"},{\\\"id\\\":\\\"dl_R_RIBF3730_1\\\",\\\"key\\\":\\\"R_RIBF3730_1\\\"},{\\\"id\\\":\\\"dl_R_RIBF3730_2\\\",\\\"key\\\":\\\"R_RIBF3730_2\\\"}]\",\"callBack\":\"shbObj.fncF3730Callback\",\"exceptionCallback\":\"\",\"requestMessage\":\"\",\"responseMessage\":\"\",\"serviceOption\":\"\",\"pcLog\":\"\",\"preInqForMulti\":\"\",\"makesum\":\"\",\"removeIndex\":\"\",\"redirectUrl\":\"\",\"preInqKey\":\"\",\"_multi_transfer_\":\"\",\"_multi_transfer_count_\":\"\",\"_multi_transfer_amt_\":\"\",\"userCallback\":\"\",\"menuCode\":\"\",\"certtype\":\"\"},\n",
    "            \"S_RIBF3730\":{\"조회구분\":\"\",\"조회일자\":today,\"고시회차\":\"1\",\"조회일자_display\":\"\"}}\n",
    "    url = 'https://bank.shinhan.com/comjsp/dataProcess.jsp?svr_type=GU&svr_code=F3730'\n",
    "    headers = {'Content-Tpe': 'application/json; charset=utf-8'}\n",
    "    res = requests.post(url, data=json.dumps(data))\n",
    "\n",
    "\n",
    "    currency_exchanges = res.json()['R_RIBF3730_1']\n",
    "    return {'code': currency_exchanges[0]['통화CODE'], 'cur': currency_exchanges[0]['전신환매도환율']}\n",
    "    #전신환매도환율\n",
    "    #통화CODE\n",
    "usd_cur = get_usd_curreny()"
   ]
  },
  {
   "cell_type": "code",
   "execution_count": 20,
   "id": "d762c496",
   "metadata": {},
   "outputs": [
    {
     "data": {
      "text/plain": [
       "'1329.90'"
      ]
     },
     "execution_count": 20,
     "metadata": {},
     "output_type": "execute_result"
    }
   ],
   "source": [
    "usd_cur['cur']"
   ]
  },
  {
   "cell_type": "code",
   "execution_count": 16,
   "id": "21a2abb6",
   "metadata": {},
   "outputs": [],
   "source": [
    "import math\n",
    "\n",
    "def round_off(num, pos=2):\n",
    "    t = str(num).split('.')\n",
    "    t[1] = t[1][:pos]\n",
    "    return float(\".\".join(t))"
   ]
  },
  {
   "cell_type": "code",
   "execution_count": 22,
   "id": "6dd2c81b",
   "metadata": {},
   "outputs": [],
   "source": [
    "#usd_cur = {'code': 'USD', 'cur': '1296.40'}\n",
    "\n",
    "card_fee = 0\n",
    "\n",
    "def exCalc(v):\n",
    "    visafee = v * 0.011;\n",
    "    visafee = float(round_off(visafee));\n",
    "    t = round(v * float(usd_cur['cur']))\n",
    "    card_fee = t * 0.0018\n",
    "    card_fee = round_off(card_fee, 0)\n",
    "    krw = ((v + visafee) * float(usd_cur['cur'])) + card_fee\n",
    "    return (v+visafee, int(krw), card_fee)\n",
    "\n",
    "#exCalc(6.81)"
   ]
  },
  {
   "cell_type": "code",
   "execution_count": 33,
   "id": "1d0f0849",
   "metadata": {},
   "outputs": [
    {
     "data": {
      "text/plain": [
       "(4.46, 5994, 10.0, 4.5)"
      ]
     },
     "execution_count": 33,
     "metadata": {},
     "output_type": "execute_result"
    }
   ],
   "source": [
    "def default_value():\n",
    "    tar = 5999\n",
    "    for i in range(600, 400, -1):\n",
    "        usd = i/100\n",
    "        usdv, krw, card_fee = exCalc(usd)\n",
    "        if (krw < 6000):\n",
    "            return (usd, krw, card_fee, usdv)\n",
    "        \n",
    "\n",
    "usd, krw, card_fee, usdv = default_value()\n",
    "usd, krw, card_fee, usdv"
   ]
  },
  {
   "cell_type": "code",
   "execution_count": 34,
   "id": "96e9b40d",
   "metadata": {},
   "outputs": [],
   "source": [
    "currencys_list = []\n",
    "def get_currency_rate():\n",
    "    currencys_list = [\"USD\", \"AED\", \"ARS\", \"AUD\", \"CAD\", \"CHF\", \"CLP\", \"CZK\", \"CNY\", \"DKK\", \"EUR\", \"GBP\", \"HKD\", \"HUF\", \"IDR\", \"INR\", \"JPY\", \"NPR\", \"NGN\", \"NZD\", \"NOK\", \"MXN\", \"MYR\", \"PHP\", \"PLN\", \"RUB\", \"SAR\", \"SGD\", \"SEK\", \"THB\", \"TRY\", \"TWD\", \"VND\", \"KRW\"]\n",
    "\n",
    "    currencys = []\n",
    "    dt = datetime.today()\n",
    "    today = dt.strftime('/%m/%d/%Y')\n",
    "\n",
    "    for cur in currencys_list:\n",
    "        url = 'https://www.visakorea.com/travel-with-visa/exchange-rate-calculator.html?fromCurr=USD&toCurr={}&fee=0&utcConvertedDate={}&exchangedate={}&submitButton=Calculate+Exchange+Rates'.format(cur, today, today)\n",
    "        page = requests.get(url)\n",
    "        soup = bs(page.text, \"html.parser\")\n",
    "        currency_rate = soup.select('#er_result_table > tr > td > p:nth-child(2) > span > strong:nth-child(2)')[0].get_text()\n",
    "        currencys.append({cur: {'rate': usd_cur['cur'], 'currency_rate': currency_rate if currency_rate != '' else '1.0'}})\n",
    "    return currencys\n"
   ]
  },
  {
   "cell_type": "code",
   "execution_count": 35,
   "id": "55065225",
   "metadata": {},
   "outputs": [],
   "source": [
    "currencys = get_currency_rate()"
   ]
  },
  {
   "cell_type": "code",
   "execution_count": 36,
   "id": "95f70bea",
   "metadata": {},
   "outputs": [
    {
     "data": {
      "text/plain": [
       "[{'USD': {'rate': '1329.90', 'currency_rate': '1.0'}},\n",
       " {'AED': {'rate': '1329.90', 'currency_rate': '0.2723012199'}},\n",
       " {'ARS': {'rate': '1329.90', 'currency_rate': '0.0073671772'}},\n",
       " {'AUD': {'rate': '1329.90', 'currency_rate': '0.693199307'}},\n",
       " {'CAD': {'rate': '1329.90', 'currency_rate': '0.7727967543'}},\n",
       " {'CHF': {'rate': '1329.90', 'currency_rate': '1.0481071168'}},\n",
       " {'CLP': {'rate': '1329.90', 'currency_rate': '0.0010588734'}},\n",
       " {'CZK': {'rate': '1329.90', 'currency_rate': '0.0410744681'}},\n",
       " {'CNY': {'rate': '1329.90', 'currency_rate': '0.1468688147'}},\n",
       " {'DKK': {'rate': '1329.90', 'currency_rate': '0.1359895288'}},\n",
       " {'EUR': {'rate': '1329.90', 'currency_rate': '1.011198989'}},\n",
       " {'GBP': {'rate': '1329.90', 'currency_rate': '1.194698805'}},\n",
       " {'HKD': {'rate': '1329.90', 'currency_rate': '0.1275102327'}},\n",
       " {'HUF': {'rate': '1329.90', 'currency_rate': '0.0025023748'}},\n",
       " {'IDR': {'rate': '1329.90', 'currency_rate': '0.0000673537'}},\n",
       " {'INR': {'rate': '1329.90', 'currency_rate': '0.0125489283'}},\n",
       " {'JPY': {'rate': '1329.90', 'currency_rate': '0.0073691894'}},\n",
       " {'NPR': {'rate': '1329.90', 'currency_rate': '0.0078430802'}},\n",
       " {'NGN': {'rate': '1329.90', 'currency_rate': '0.002334485'}},\n",
       " {'NZD': {'rate': '1329.90', 'currency_rate': '0.627199373'}},\n",
       " {'NOK': {'rate': '1329.90', 'currency_rate': '0.1031469123'}},\n",
       " {'MXN': {'rate': '1329.90', 'currency_rate': '0.0497514415'}},\n",
       " {'MYR': {'rate': '1329.90', 'currency_rate': '0.2235134108'}},\n",
       " {'PHP': {'rate': '1329.90', 'currency_rate': '0.017852361'}},\n",
       " {'PLN': {'rate': '1329.90', 'currency_rate': '0.2138760801'}},\n",
       " {'RUB': {'rate': '1329.90', 'currency_rate': '0.0168800184'}},\n",
       " {'SAR': {'rate': '1329.90', 'currency_rate': '0.2663538781'}},\n",
       " {'SGD': {'rate': '1329.90', 'currency_rate': '0.7231696557'}},\n",
       " {'SEK': {'rate': '1329.90', 'currency_rate': '0.0955574349'}},\n",
       " {'THB': {'rate': '1329.90', 'currency_rate': '0.0281206659'}},\n",
       " {'TRY': {'rate': '1329.90', 'currency_rate': '0.0553712368'}},\n",
       " {'TWD': {'rate': '1329.90', 'currency_rate': '0.0332126607'}},\n",
       " {'VND': {'rate': '1329.90', 'currency_rate': '0.0000427332'}},\n",
       " {'KRW': {'rate': '1329.90', 'currency_rate': '0.0007554068'}}]"
      ]
     },
     "execution_count": 36,
     "metadata": {},
     "output_type": "execute_result"
    }
   ],
   "source": [
    "currencys"
   ]
  },
  {
   "cell_type": "code",
   "execution_count": 37,
   "id": "6c29b22b",
   "metadata": {},
   "outputs": [],
   "source": [
    "def get_info_with_currency_and_value(cur, v):\n",
    "    idx = currencys_list.index(cur)\n",
    "    return exCalc(round(v * float(currenys[idx][cur]['currency_rate']), 2))"
   ]
  },
  {
   "cell_type": "code",
   "execution_count": 38,
   "id": "4ae881c7",
   "metadata": {},
   "outputs": [
    {
     "data": {
      "text/plain": [
       "(4.38, 5834, 10.0)"
      ]
     },
     "execution_count": 38,
     "metadata": {},
     "output_type": "execute_result"
    }
   ],
   "source": [
    "exCalc(4.34)"
   ]
  },
  {
   "cell_type": "code",
   "execution_count": 40,
   "id": "f7e7c071",
   "metadata": {},
   "outputs": [
    {
     "ename": "ValueError",
     "evalue": "'AED' is not in list",
     "output_type": "error",
     "traceback": [
      "\u001b[0;31m---------------------------------------------------------------------------\u001b[0m",
      "\u001b[0;31mValueError\u001b[0m                                Traceback (most recent call last)",
      "Input \u001b[0;32mIn [40]\u001b[0m, in \u001b[0;36m<cell line: 1>\u001b[0;34m()\u001b[0m\n\u001b[0;32m----> 1\u001b[0m a \u001b[38;5;241m=\u001b[39m \u001b[43mget_info_with_currency_and_value\u001b[49m\u001b[43m(\u001b[49m\u001b[38;5;124;43m'\u001b[39;49m\u001b[38;5;124;43mAED\u001b[39;49m\u001b[38;5;124;43m'\u001b[39;49m\u001b[43m,\u001b[49m\u001b[43m \u001b[49m\u001b[38;5;241;43m25\u001b[39;49m\u001b[43m)\u001b[49m\n\u001b[1;32m      2\u001b[0m a\n",
      "Input \u001b[0;32mIn [37]\u001b[0m, in \u001b[0;36mget_info_with_currency_and_value\u001b[0;34m(cur, v)\u001b[0m\n\u001b[1;32m      1\u001b[0m \u001b[38;5;28;01mdef\u001b[39;00m \u001b[38;5;21mget_info_with_currency_and_value\u001b[39m(cur, v):\n\u001b[0;32m----> 2\u001b[0m     idx \u001b[38;5;241m=\u001b[39m \u001b[43mcurrencys_list\u001b[49m\u001b[38;5;241;43m.\u001b[39;49m\u001b[43mindex\u001b[49m\u001b[43m(\u001b[49m\u001b[43mcur\u001b[49m\u001b[43m)\u001b[49m\n\u001b[1;32m      3\u001b[0m     \u001b[38;5;28;01mreturn\u001b[39;00m exCalc(\u001b[38;5;28mround\u001b[39m(v \u001b[38;5;241m*\u001b[39m \u001b[38;5;28mfloat\u001b[39m(currenys[idx][cur][\u001b[38;5;124m'\u001b[39m\u001b[38;5;124mcurrency_rate\u001b[39m\u001b[38;5;124m'\u001b[39m]), \u001b[38;5;241m2\u001b[39m))\n",
      "\u001b[0;31mValueError\u001b[0m: 'AED' is not in list"
     ]
    }
   ],
   "source": [
    "a = get_info_with_currency_and_value('AED', 25)\n",
    "a"
   ]
  },
  {
   "cell_type": "code",
   "execution_count": 41,
   "id": "e860a018",
   "metadata": {},
   "outputs": [],
   "source": [
    "def get_all_info_currency_with_value():\n",
    "    currencys_list = [\"USD\", \"AED\", \"ARS\", \"AUD\", \"CAD\", \"CHF\", \"CLP\", \"CZK\", \"CNY\", \"DKK\", \"EUR\", \"GBP\", \"HKD\", \"HUF\", \"IDR\", \"INR\", \"JPY\", \"NPR\", \"NGN\", \"NZD\", \"NOK\", \"MXN\", \"MYR\", \"PHP\", \"PLN\", \"RUB\", \"SAR\", \"SGD\", \"SEK\", \"THB\", \"TRY\", \"TWD\", \"VND\", \"KRW\"]\n",
    "    comma = [0,2,0,2,2,2,0,2,2,2,2,2,2,2,2,2,0,2,2,2,2,2,2,2,2,2,2,2,2,2,2,2,0,0]\n",
    "    usd, krw, card_fee, usdv = default_value()\n",
    "\n",
    "    for idx, cur in enumerate(currencys_list):\n",
    "        for i in range(10, 20000000, 1):\n",
    "            t = i/100\n",
    "            a = t * float(currenys[idx][cur]['currency_rate']) \n",
    "            amount = 0\n",
    "            if (float(\"{}{}\".format(str(usd), 5)) <= a):                \n",
    "                prev = t - 0.01\n",
    "                if (comma[idx] == 0):\n",
    "                    amount = round_off(prev, 0) \n",
    "                else:\n",
    "                    amount = round(prev, 2)\n",
    "                currenys[idx][cur]['amount'] = amount\n",
    "                currenys[idx][cur]['usd'] = usdv\n",
    "                currenys[idx][cur]['krw'] = krw\n",
    "                currenys[idx][cur]['card_fees'] = card_fee\n",
    "                break\n",
    "    return currenys"
   ]
  },
  {
   "cell_type": "code",
   "execution_count": 42,
   "id": "b2b4f7f8",
   "metadata": {},
   "outputs": [
    {
     "data": {
      "text/plain": [
       "[{'USD': {'rate': '1296.40',\n",
       "   'currency_rate': '1.0',\n",
       "   'amount': 4.0,\n",
       "   'usd': 4.5,\n",
       "   'krw': 5994,\n",
       "   'card_fees': 10.0}},\n",
       " {'AED': {'rate': '1296.40',\n",
       "   'currency_rate': '0.2723012199',\n",
       "   'amount': 16.39,\n",
       "   'usd': 4.5,\n",
       "   'krw': 5994,\n",
       "   'card_fees': 10.0}},\n",
       " {'ARS': {'rate': '1296.40',\n",
       "   'currency_rate': '0.0073671772',\n",
       "   'amount': 606.0,\n",
       "   'usd': 4.5,\n",
       "   'krw': 5994,\n",
       "   'card_fees': 10.0}},\n",
       " {'AUD': {'rate': '1296.40',\n",
       "   'currency_rate': '0.693199307',\n",
       "   'amount': 6.44,\n",
       "   'usd': 4.5,\n",
       "   'krw': 5994,\n",
       "   'card_fees': 10.0}},\n",
       " {'CAD': {'rate': '1296.40',\n",
       "   'currency_rate': '0.7727967543',\n",
       "   'amount': 5.77,\n",
       "   'usd': 4.5,\n",
       "   'krw': 5994,\n",
       "   'card_fees': 10.0}},\n",
       " {'CHF': {'rate': '1296.40',\n",
       "   'currency_rate': '1.0481071168',\n",
       "   'amount': 4.26,\n",
       "   'usd': 4.5,\n",
       "   'krw': 5994,\n",
       "   'card_fees': 10.0}},\n",
       " {'CLP': {'rate': '1296.40',\n",
       "   'currency_rate': '0.0010588734',\n",
       "   'amount': 4216.0,\n",
       "   'usd': 4.5,\n",
       "   'krw': 5994,\n",
       "   'card_fees': 10.0}},\n",
       " {'CZK': {'rate': '1296.40',\n",
       "   'currency_rate': '0.0410744681',\n",
       "   'amount': 108.7,\n",
       "   'usd': 4.5,\n",
       "   'krw': 5994,\n",
       "   'card_fees': 10.0}},\n",
       " {'CNY': {'rate': '1296.40',\n",
       "   'currency_rate': '0.1468688147',\n",
       "   'amount': 30.4,\n",
       "   'usd': 4.5,\n",
       "   'krw': 5994,\n",
       "   'card_fees': 10.0}},\n",
       " {'DKK': {'rate': '1296.40',\n",
       "   'currency_rate': '0.1359895288',\n",
       "   'amount': 32.83,\n",
       "   'usd': 4.5,\n",
       "   'krw': 5994,\n",
       "   'card_fees': 10.0}},\n",
       " {'EUR': {'rate': '1296.40',\n",
       "   'currency_rate': '1.011198989',\n",
       "   'amount': 4.41,\n",
       "   'usd': 4.5,\n",
       "   'krw': 5994,\n",
       "   'card_fees': 10.0}},\n",
       " {'GBP': {'rate': '1296.40',\n",
       "   'currency_rate': '1.194698805',\n",
       "   'amount': 3.73,\n",
       "   'usd': 4.5,\n",
       "   'krw': 5994,\n",
       "   'card_fees': 10.0}},\n",
       " {'HKD': {'rate': '1296.40',\n",
       "   'currency_rate': '0.1275102327',\n",
       "   'amount': 35.01,\n",
       "   'usd': 4.5,\n",
       "   'krw': 5994,\n",
       "   'card_fees': 10.0}},\n",
       " {'HUF': {'rate': '1296.40',\n",
       "   'currency_rate': '0.0025023748',\n",
       "   'amount': 1784.3,\n",
       "   'usd': 4.5,\n",
       "   'krw': 5994,\n",
       "   'card_fees': 10.0}},\n",
       " {'IDR': {'rate': '1296.40',\n",
       "   'currency_rate': '0.0000673537',\n",
       "   'amount': 66291.82,\n",
       "   'usd': 4.5,\n",
       "   'krw': 5994,\n",
       "   'card_fees': 10.0}},\n",
       " {'INR': {'rate': '1296.40',\n",
       "   'currency_rate': '0.0125489283',\n",
       "   'amount': 355.8,\n",
       "   'usd': 4.5,\n",
       "   'krw': 5994,\n",
       "   'card_fees': 10.0}},\n",
       " {'JPY': {'rate': '1296.40',\n",
       "   'currency_rate': '0.0073691894',\n",
       "   'amount': 605.0,\n",
       "   'usd': 4.5,\n",
       "   'krw': 5994,\n",
       "   'card_fees': 10.0}},\n",
       " {'NPR': {'rate': '1296.40',\n",
       "   'currency_rate': '0.0078430802',\n",
       "   'amount': 569.29,\n",
       "   'usd': 4.5,\n",
       "   'krw': 5994,\n",
       "   'card_fees': 10.0}},\n",
       " {'NGN': {'rate': '1296.40',\n",
       "   'currency_rate': '0.002334485',\n",
       "   'amount': 1912.62,\n",
       "   'usd': 4.5,\n",
       "   'krw': 5994,\n",
       "   'card_fees': 10.0}},\n",
       " {'NZD': {'rate': '1296.40',\n",
       "   'currency_rate': '0.627199373',\n",
       "   'amount': 7.11,\n",
       "   'usd': 4.5,\n",
       "   'krw': 5994,\n",
       "   'card_fees': 10.0}},\n",
       " {'NOK': {'rate': '1296.40',\n",
       "   'currency_rate': '0.1031469123',\n",
       "   'amount': 43.28,\n",
       "   'usd': 4.5,\n",
       "   'krw': 5994,\n",
       "   'card_fees': 10.0}},\n",
       " {'MXN': {'rate': '1296.40',\n",
       "   'currency_rate': '0.0497514415',\n",
       "   'amount': 89.74,\n",
       "   'usd': 4.5,\n",
       "   'krw': 5994,\n",
       "   'card_fees': 10.0}},\n",
       " {'MYR': {'rate': '1296.40',\n",
       "   'currency_rate': '0.2235134108',\n",
       "   'amount': 19.97,\n",
       "   'usd': 4.5,\n",
       "   'krw': 5994,\n",
       "   'card_fees': 10.0}},\n",
       " {'PHP': {'rate': '1296.40',\n",
       "   'currency_rate': '0.017852361',\n",
       "   'amount': 250.1,\n",
       "   'usd': 4.5,\n",
       "   'krw': 5994,\n",
       "   'card_fees': 10.0}},\n",
       " {'PLN': {'rate': '1296.40',\n",
       "   'currency_rate': '0.2138760801',\n",
       "   'amount': 20.87,\n",
       "   'usd': 4.5,\n",
       "   'krw': 5994,\n",
       "   'card_fees': 10.0}},\n",
       " {'RUB': {'rate': '1296.40',\n",
       "   'currency_rate': '0.0168800184',\n",
       "   'amount': 264.51,\n",
       "   'usd': 4.5,\n",
       "   'krw': 5994,\n",
       "   'card_fees': 10.0}},\n",
       " {'SAR': {'rate': '1296.40',\n",
       "   'currency_rate': '0.2663538781',\n",
       "   'amount': 16.76,\n",
       "   'usd': 4.5,\n",
       "   'krw': 5994,\n",
       "   'card_fees': 10.0}},\n",
       " {'SGD': {'rate': '1296.40',\n",
       "   'currency_rate': '0.7231696557',\n",
       "   'amount': 6.17,\n",
       "   'usd': 4.5,\n",
       "   'krw': 5994,\n",
       "   'card_fees': 10.0}},\n",
       " {'SEK': {'rate': '1296.40',\n",
       "   'currency_rate': '0.0955574349',\n",
       "   'amount': 46.72,\n",
       "   'usd': 4.5,\n",
       "   'krw': 5994,\n",
       "   'card_fees': 10.0}},\n",
       " {'THB': {'rate': '1296.40',\n",
       "   'currency_rate': '0.0281206659',\n",
       "   'amount': 158.78,\n",
       "   'usd': 4.5,\n",
       "   'krw': 5994,\n",
       "   'card_fees': 10.0}},\n",
       " {'TRY': {'rate': '1296.40',\n",
       "   'currency_rate': '0.0553712368',\n",
       "   'amount': 80.63,\n",
       "   'usd': 4.5,\n",
       "   'krw': 5994,\n",
       "   'card_fees': 10.0}},\n",
       " {'TWD': {'rate': '1296.40',\n",
       "   'currency_rate': '0.0332126607',\n",
       "   'amount': 134.43,\n",
       "   'usd': 4.5,\n",
       "   'krw': 5994,\n",
       "   'card_fees': 10.0}},\n",
       " {'VND': {'rate': '1296.40',\n",
       "   'currency_rate': '0.0000427332',\n",
       "   'amount': 104485.0,\n",
       "   'usd': 4.5,\n",
       "   'krw': 5994,\n",
       "   'card_fees': 10.0}},\n",
       " {'KRW': {'rate': '1296.40',\n",
       "   'currency_rate': '0.0007554068',\n",
       "   'amount': 5910.0,\n",
       "   'usd': 4.5,\n",
       "   'krw': 5994,\n",
       "   'card_fees': 10.0}}]"
      ]
     },
     "execution_count": 42,
     "metadata": {},
     "output_type": "execute_result"
    }
   ],
   "source": [
    "get_all_info_currency_with_value()"
   ]
  },
  {
   "cell_type": "code",
   "execution_count": 43,
   "id": "2f14a02e",
   "metadata": {},
   "outputs": [
    {
     "data": {
      "text/plain": [
       "[{'USD': {'rate': '1329.90', 'currency_rate': '1.0'}},\n",
       " {'AED': {'rate': '1329.90', 'currency_rate': '0.2723012199'}},\n",
       " {'ARS': {'rate': '1329.90', 'currency_rate': '0.0073671772'}},\n",
       " {'AUD': {'rate': '1329.90', 'currency_rate': '0.693199307'}},\n",
       " {'CAD': {'rate': '1329.90', 'currency_rate': '0.7727967543'}},\n",
       " {'CHF': {'rate': '1329.90', 'currency_rate': '1.0481071168'}},\n",
       " {'CLP': {'rate': '1329.90', 'currency_rate': '0.0010588734'}},\n",
       " {'CZK': {'rate': '1329.90', 'currency_rate': '0.0410744681'}},\n",
       " {'CNY': {'rate': '1329.90', 'currency_rate': '0.1468688147'}},\n",
       " {'DKK': {'rate': '1329.90', 'currency_rate': '0.1359895288'}},\n",
       " {'EUR': {'rate': '1329.90', 'currency_rate': '1.011198989'}},\n",
       " {'GBP': {'rate': '1329.90', 'currency_rate': '1.194698805'}},\n",
       " {'HKD': {'rate': '1329.90', 'currency_rate': '0.1275102327'}},\n",
       " {'HUF': {'rate': '1329.90', 'currency_rate': '0.0025023748'}},\n",
       " {'IDR': {'rate': '1329.90', 'currency_rate': '0.0000673537'}},\n",
       " {'INR': {'rate': '1329.90', 'currency_rate': '0.0125489283'}},\n",
       " {'JPY': {'rate': '1329.90', 'currency_rate': '0.0073691894'}},\n",
       " {'NPR': {'rate': '1329.90', 'currency_rate': '0.0078430802'}},\n",
       " {'NGN': {'rate': '1329.90', 'currency_rate': '0.002334485'}},\n",
       " {'NZD': {'rate': '1329.90', 'currency_rate': '0.627199373'}},\n",
       " {'NOK': {'rate': '1329.90', 'currency_rate': '0.1031469123'}},\n",
       " {'MXN': {'rate': '1329.90', 'currency_rate': '0.0497514415'}},\n",
       " {'MYR': {'rate': '1329.90', 'currency_rate': '0.2235134108'}},\n",
       " {'PHP': {'rate': '1329.90', 'currency_rate': '0.017852361'}},\n",
       " {'PLN': {'rate': '1329.90', 'currency_rate': '0.2138760801'}},\n",
       " {'RUB': {'rate': '1329.90', 'currency_rate': '0.0168800184'}},\n",
       " {'SAR': {'rate': '1329.90', 'currency_rate': '0.2663538781'}},\n",
       " {'SGD': {'rate': '1329.90', 'currency_rate': '0.7231696557'}},\n",
       " {'SEK': {'rate': '1329.90', 'currency_rate': '0.0955574349'}},\n",
       " {'THB': {'rate': '1329.90', 'currency_rate': '0.0281206659'}},\n",
       " {'TRY': {'rate': '1329.90', 'currency_rate': '0.0553712368'}},\n",
       " {'TWD': {'rate': '1329.90', 'currency_rate': '0.0332126607'}},\n",
       " {'VND': {'rate': '1329.90', 'currency_rate': '0.0000427332'}},\n",
       " {'KRW': {'rate': '1329.90', 'currency_rate': '0.0007554068'}}]"
      ]
     },
     "execution_count": 43,
     "metadata": {},
     "output_type": "execute_result"
    }
   ],
   "source": [
    "currencys"
   ]
  },
  {
   "cell_type": "code",
   "execution_count": 827,
   "id": "e7d59bd4",
   "metadata": {},
   "outputs": [],
   "source": []
  },
  {
   "cell_type": "code",
   "execution_count": 828,
   "id": "ce5ed550",
   "metadata": {},
   "outputs": [
    {
     "data": {
      "text/plain": [
       "['USD',\n",
       " 'THB',\n",
       " 'SGD',\n",
       " 'MYR',\n",
       " 'CNY',\n",
       " 'IDR',\n",
       " 'AUD',\n",
       " 'EUR',\n",
       " 'HKD',\n",
       " 'INR',\n",
       " 'VND',\n",
       " 'PHP',\n",
       " 'GBP',\n",
       " 'JPY',\n",
       " 'TWD']"
      ]
     },
     "execution_count": 828,
     "metadata": {},
     "output_type": "execute_result"
    }
   ],
   "source": [
    "cur"
   ]
  },
  {
   "cell_type": "code",
   "execution_count": 882,
   "id": "7e47c5fe",
   "metadata": {},
   "outputs": [
    {
     "name": "stdout",
     "output_type": "stream",
     "text": [
      "0.0997832972162027\n",
      "0.0997832972162027\n",
      "0.0995665944324054\n",
      "0.0995665944324054\n",
      "0.0989164860810135\n",
      "0.0982663777296216\n",
      "0.1\n",
      "0.0997832972162027\n",
      "0.09783297216202701\n",
      "0.0973995665944324\n",
      "0.0973995665944324\n",
      "0.0997832972162027\n",
      "0.0973995665944324\n",
      "0.0982663777296216\n",
      "0.0997832972162027\n"
     ]
    }
   ],
   "source": [
    "import re\n",
    "cur = [\"USD\", \"THB\", \"SGD\", \"MYR\", \"CNY\", \"IDR\", \"AUD\", \"EUR\", \"HKD\", \"INR\", \"VND\", \"PHP\", \"GBP\", \"JPY\", \"TWD\"]\n",
    "\n",
    "url = 'https://www.qoo10.com/item/Q-COIN-TOP-UP-VOUCHER-BY-QOO10-SG/705045258?banner_no=185296'\n",
    "qcoin_list = []\n",
    "for c in cur:\n",
    "    headers = { \"cookie\": \"gmktCurrency={}\".format(c)}\n",
    "\n",
    "    page = requests.get(url, headers=headers)\n",
    "\n",
    "    soup = bs(page.text, \"html.parser\")\n",
    "    price = soup.select('#qprice_span')[0]['data-price']\n",
    "    \n",
    "\n",
    "    for i in range(32, 40, 1):\n",
    "        _, krw, _ = get_info_with_currency_and_value(c, i * float(price))\n",
    "        if (krw > 6000):\n",
    "            count = i - 1\n",
    "            amount = (i - 1) * float(price)\n",
    "            _, krw, _ = get_info_with_currency_and_value(c, amount)\n",
    "            rank = count + (krw / 59990)\n",
    "            print((krw / 59990))\n",
    "            qcoin_list.append({\"cur\": c, \"price\": price, \"count\": count, \"krw\": krw, 'amount': amount, \"rank\": rank})\n",
    "            break\n",
    "qcoin_list = sorted(qcoin_list, key=lambda d: d['rank'], reverse=True) \n",
    "\n",
    "        \n",
    "\n",
    "\n"
   ]
  },
  {
   "cell_type": "code",
   "execution_count": 883,
   "id": "fcbd5376",
   "metadata": {},
   "outputs": [
    {
     "data": {
      "text/plain": [
       "[{'cur': 'USD',\n",
       "  'price': '0.12',\n",
       "  'count': 38,\n",
       "  'krw': 5986,\n",
       "  'amount': 4.56,\n",
       "  'rank': 38.099783297216206},\n",
       " {'cur': 'THB',\n",
       "  'price': '4.19',\n",
       "  'count': 38,\n",
       "  'krw': 5986,\n",
       "  'amount': 159.22000000000003,\n",
       "  'rank': 38.099783297216206},\n",
       " {'cur': 'SGD',\n",
       "  'price': '0.17',\n",
       "  'count': 37,\n",
       "  'krw': 5973,\n",
       "  'amount': 6.29,\n",
       "  'rank': 37.0995665944324},\n",
       " {'cur': 'MYR',\n",
       "  'price': '0.54',\n",
       "  'count': 37,\n",
       "  'krw': 5973,\n",
       "  'amount': 19.98,\n",
       "  'rank': 37.0995665944324},\n",
       " {'cur': 'CNY',\n",
       "  'price': '0.82',\n",
       "  'count': 37,\n",
       "  'krw': 5934,\n",
       "  'amount': 30.34,\n",
       "  'rank': 37.098916486081016},\n",
       " {'cur': 'IDR',\n",
       "  'price': '1800',\n",
       "  'count': 37,\n",
       "  'krw': 5895,\n",
       "  'amount': 66600.0,\n",
       "  'rank': 37.09826637772962},\n",
       " {'cur': 'HKD',\n",
       "  'price': '0.95',\n",
       "  'count': 37,\n",
       "  'krw': 5869,\n",
       "  'amount': 35.15,\n",
       "  'rank': 37.097832972162024},\n",
       " {'cur': 'INR',\n",
       "  'price': '9.39',\n",
       "  'count': 37,\n",
       "  'krw': 5843,\n",
       "  'amount': 347.43,\n",
       "  'rank': 37.09739956659443},\n",
       " {'cur': 'VND',\n",
       "  'price': '2800',\n",
       "  'count': 37,\n",
       "  'krw': 5843,\n",
       "  'amount': 103600.0,\n",
       "  'rank': 37.09739956659443},\n",
       " {'cur': 'AUD',\n",
       "  'price': '0.18',\n",
       "  'count': 36,\n",
       "  'krw': 5999,\n",
       "  'amount': 6.4799999999999995,\n",
       "  'rank': 36.1},\n",
       " {'cur': 'EUR',\n",
       "  'price': '0.12',\n",
       "  'count': 36,\n",
       "  'krw': 5986,\n",
       "  'amount': 4.32,\n",
       "  'rank': 36.099783297216206},\n",
       " {'cur': 'GBP',\n",
       "  'price': '0.10',\n",
       "  'count': 36,\n",
       "  'krw': 5843,\n",
       "  'amount': 3.6,\n",
       "  'rank': 36.09739956659443},\n",
       " {'cur': 'PHP',\n",
       "  'price': '7',\n",
       "  'count': 35,\n",
       "  'krw': 5986,\n",
       "  'amount': 245.0,\n",
       "  'rank': 35.099783297216206},\n",
       " {'cur': 'JPY',\n",
       "  'price': '17',\n",
       "  'count': 35,\n",
       "  'krw': 5895,\n",
       "  'amount': 595.0,\n",
       "  'rank': 35.09826637772962},\n",
       " {'cur': 'TWD',\n",
       "  'price': '4',\n",
       "  'count': 34,\n",
       "  'krw': 5986,\n",
       "  'amount': 136.0,\n",
       "  'rank': 34.099783297216206}]"
      ]
     },
     "execution_count": 883,
     "metadata": {},
     "output_type": "execute_result"
    }
   ],
   "source": [
    "qcoin_list"
   ]
  },
  {
   "cell_type": "code",
   "execution_count": 869,
   "id": "37ba76fe",
   "metadata": {},
   "outputs": [
    {
     "data": {
      "text/plain": [
       "0.9894982497082847"
      ]
     },
     "execution_count": 869,
     "metadata": {},
     "output_type": "execute_result"
    }
   ],
   "source": [
    "5936/5999"
   ]
  },
  {
   "cell_type": "code",
   "execution_count": null,
   "id": "00c8d51a",
   "metadata": {},
   "outputs": [],
   "source": []
  }
 ],
 "metadata": {
  "kernelspec": {
   "display_name": "Python 3 (ipykernel)",
   "language": "python",
   "name": "python3"
  },
  "language_info": {
   "codemirror_mode": {
    "name": "ipython",
    "version": 3
   },
   "file_extension": ".py",
   "mimetype": "text/x-python",
   "name": "python",
   "nbconvert_exporter": "python",
   "pygments_lexer": "ipython3",
   "version": "3.9.12"
  }
 },
 "nbformat": 4,
 "nbformat_minor": 5
}
